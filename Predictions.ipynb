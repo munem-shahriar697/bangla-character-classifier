Model: "sequential"
_________________________________________________________________
 Layer (type)                Output Shape              Param #   
=================================================================
 conv2d (Conv2D)             (None, 28, 28, 32)        320       
                                                                 
 max_pooling2d (MaxPooling2D  (None, 14, 14, 32)       0         
 )                                                               
                                                                 
 conv2d_1 (Conv2D)           (None, 12, 12, 64)        18496     
                                                                 
 max_pooling2d_1 (MaxPooling  (None, 6, 6, 64)         0         
 2D)                                                             
                                                                 
 conv2d_2 (Conv2D)           (None, 4, 4, 128)         73856     
                                                                 
 max_pooling2d_2 (MaxPooling  (None, 2, 2, 128)        0         
 2D)                                                             
                                                                 
 dropout (Dropout)           (None, 2, 2, 128)         0         
                                                                 
 flatten (Flatten)           (None, 512)               0         
                                                                 
 dense (Dense)               (None, 256)               131328    
                                                                 
 dense_1 (Dense)             (None, 128)               32896     
                                                                 
 dense_2 (Dense)             (None, 62)                7998      
                                                                 
=================================================================
Total params: 264,894
Trainable params: 264,894
Non-trainable params: 0
_________________________________________________________________
Epoch 1/20
31/31 [==============================] - 50s 2s/step - loss: 2.2615 - accuracy: 0.3023
Epoch 2/20
31/31 [==============================] - 50s 2s/step - loss: 0.9039 - accuracy: 0.7174
Epoch 3/20
31/31 [==============================] - 48s 2s/step - loss: 0.6104 - accuracy: 0.7974
Epoch 4/20
31/31 [==============================] - 48s 2s/step - loss: 0.4736 - accuracy: 0.8436
Epoch 5/20
31/31 [==============================] - 52s 2s/step - loss: 0.3942 - accuracy: 0.8700
Epoch 6/20
31/31 [==============================] - 52s 2s/step - loss: 0.3390 - accuracy: 0.8869
Epoch 7/20
31/31 [==============================] - 49s 2s/step - loss: 0.2959 - accuracy: 0.9007
Epoch 8/20
31/31 [==============================] - 48s 2s/step - loss: 0.2676 - accuracy: 0.9118
Epoch 9/20
31/31 [==============================] - 50s 2s/step - loss: 0.2328 - accuracy: 0.9220
Epoch 10/20
31/31 [==============================] - 50s 2s/step - loss: 0.2106 - accuracy: 0.9302
Epoch 11/20
31/31 [==============================] - 49s 2s/step - loss: 0.2022 - accuracy: 0.9332
Epoch 12/20
31/31 [==============================] - 49s 2s/step - loss: 0.1984 - accuracy: 0.9346
Epoch 13/20
31/31 [==============================] - 53s 2s/step - loss: 0.1738 - accuracy: 0.9427
Epoch 14/20
31/31 [==============================] - 48s 2s/step - loss: 0.1675 - accuracy: 0.9456
Epoch 15/20
31/31 [==============================] - 47s 2s/step - loss: 0.1522 - accuracy: 0.9491
Epoch 16/20
31/31 [==============================] - 50s 2s/step - loss: 0.1434 - accuracy: 0.9538
Epoch 17/20
31/31 [==============================] - 50s 2s/step - loss: 0.1367 - accuracy: 0.9556
Epoch 18/20
31/31 [==============================] - 48s 2s/step - loss: 0.1383 - accuracy: 0.9535
Epoch 19/20
31/31 [==============================] - 48s 2s/step - loss: 0.1205 - accuracy: 0.9615
Epoch 20/20
31/31 [==============================] - 50s 2s/step - loss: 0.1180 - accuracy: 0.9613